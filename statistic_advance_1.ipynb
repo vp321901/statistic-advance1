{
  "nbformat": 4,
  "nbformat_minor": 0,
  "metadata": {
    "colab": {
      "provenance": []
    },
    "kernelspec": {
      "name": "python3",
      "display_name": "Python 3"
    },
    "language_info": {
      "name": "python"
    }
  },
  "cells": [
    {
      "cell_type": "code",
      "execution_count": 1,
      "metadata": {
        "colab": {
          "base_uri": "https://localhost:8080/",
          "height": 53
        },
        "id": "1Q4d-vih3ajl",
        "outputId": "f98d65bb-9b76-45b0-9cbf-b326f603e4cd"
      },
      "outputs": [
        {
          "output_type": "execute_result",
          "data": {
            "text/plain": [
              "'A **Probability Density Function (PDF)** describes the likelihood of a continuous random variable falling within a range of values. It shows the probability density, and the area under the curve for a given interval gives the probability for that range. The total area under the PDF equals 1.'"
            ],
            "application/vnd.google.colaboratory.intrinsic+json": {
              "type": "string"
            }
          },
          "metadata": {},
          "execution_count": 1
        }
      ],
      "source": [
        "#  Answer:-1\n",
        "\"\"\"A **Probability Density Function (PDF)** describes the likelihood of a continuous random variable falling within a range of values.\n",
        " It shows the probability density, and the area under the curve for a given interval gives the probability for that range. The total area under the PDF equals 1.\"\"\"\n",
        "\n",
        "\n"
      ]
    },
    {
      "cell_type": "code",
      "source": [
        "#Answer:-2\n",
        "\"\"\"There are two main types of probability distributions:\n",
        "\n",
        "1:- Discrete Probability Distributions:\n",
        "\n",
        "Used when the random variable takes on discrete values (countable outcomes).\n",
        "Examples:\n",
        "Binomial distribution: For a fixed number of independent trials with two possible outcomes (success/failure).\n",
        "Poisson distribution: For the number of events occurring within a fixed interval of time or space.\n",
        "\n",
        "2:- Continuous Probability Distributions:\n",
        "\n",
        "Used when the random variable takes on continuous values (uncountable outcomes).\n",
        "Examples:\n",
        "Normal distribution: A bell-shaped curve that is symmetric around the mean.\n",
        "Uniform distribution: All outcomes in a range are equally likely.\n",
        "Exponential distribution: For the time between events in a Poisson process.\"\"\""
      ],
      "metadata": {
        "colab": {
          "base_uri": "https://localhost:8080/",
          "height": 105
        },
        "id": "NFDB9xuj4QdU",
        "outputId": "f48b544c-c1d9-45f1-de29-8b91d7400331"
      },
      "execution_count": 2,
      "outputs": [
        {
          "output_type": "execute_result",
          "data": {
            "text/plain": [
              "'There are two main types of probability distributions:\\n\\n1:- Discrete Probability Distributions:\\n\\nUsed when the random variable takes on discrete values (countable outcomes).\\nExamples:\\nBinomial distribution: For a fixed number of independent trials with two possible outcomes (success/failure).\\nPoisson distribution: For the number of events occurring within a fixed interval of time or space.\\n\\n2:- Continuous Probability Distributions:\\n\\nUsed when the random variable takes on continuous values (uncountable outcomes).\\nExamples:\\nNormal distribution: A bell-shaped curve that is symmetric around the mean.\\nUniform distribution: All outcomes in a range are equally likely.\\nExponential distribution: For the time between events in a Poisson process.'"
            ],
            "application/vnd.google.colaboratory.intrinsic+json": {
              "type": "string"
            }
          },
          "metadata": {},
          "execution_count": 2
        }
      ]
    },
    {
      "cell_type": "code",
      "source": [
        "#Answer:-3\n",
        "import math\n",
        "\n",
        "def normal_pdf(x, mean, std_dev):\n",
        "    # Calculate the PDF of a normal distribution\n",
        "    exponent = -((x - mean) ** 2) / (2 * std_dev ** 2)\n",
        "    denominator = std_dev * math.sqrt(2 * math.pi)\n",
        "    return (1 / denominator) * math.exp(exponent)\n",
        "\n",
        "# Example usage:\n",
        "x = 1.0       # Point at which to calculate the PDF\n",
        "mean = 0.0    # Mean of the normal distribution\n",
        "std_dev = 1.0 # Standard deviation of the normal distribution\n",
        "\n",
        "pdf_value = normal_pdf(x, mean, std_dev)\n",
        "print(f\"PDF at x={x}: {pdf_value}\")"
      ],
      "metadata": {
        "colab": {
          "base_uri": "https://localhost:8080/"
        },
        "id": "Osj_IvLO4gO_",
        "outputId": "7ade63c4-aa75-49fe-f8ca-e47ecd0ad7de"
      },
      "execution_count": 3,
      "outputs": [
        {
          "output_type": "stream",
          "name": "stdout",
          "text": [
            "PDF at x=1.0: 0.24197072451914337\n"
          ]
        }
      ]
    },
    {
      "cell_type": "code",
      "source": [
        "#Answer:-4\n",
        "\"\"\"Properties of Binomial Distribution (Short Version)\n",
        "Fixed Trials: There are a set number of independent trials.\n",
        "Two Outcomes: Each trial has only two possible outcomes (success or failure).\n",
        "Constant Probability: The probability of success remains the same for each trial.\n",
        "Independence: Outcomes of one trial do not affect others.\n",
        "Discrete Random Variable: The distribution models the number of successes in the trials.\n",
        "Examples:\n",
        "Coin Tossing: Number of heads in 10 tosses.\n",
        "Quality Control: Number of defective items in a batch of 50.\"\"\""
      ],
      "metadata": {
        "colab": {
          "base_uri": "https://localhost:8080/",
          "height": 70
        },
        "id": "5mXBZgF54lOr",
        "outputId": "37f87d89-5940-4883-89c6-22b211b816dd"
      },
      "execution_count": 4,
      "outputs": [
        {
          "output_type": "execute_result",
          "data": {
            "text/plain": [
              "'Properties of Binomial Distribution (Short Version)\\nFixed Trials: There are a set number of independent trials.\\nTwo Outcomes: Each trial has only two possible outcomes (success or failure).\\nConstant Probability: The probability of success remains the same for each trial.\\nIndependence: Outcomes of one trial do not affect others.\\nDiscrete Random Variable: The distribution models the number of successes in the trials.\\nExamples:\\nCoin Tossing: Number of heads in 10 tosses.\\nQuality Control: Number of defective items in a batch of 50.'"
            ],
            "application/vnd.google.colaboratory.intrinsic+json": {
              "type": "string"
            }
          },
          "metadata": {},
          "execution_count": 4
        }
      ]
    },
    {
      "cell_type": "code",
      "source": [
        "#Answer\":-5\n",
        "\n",
        "import numpy as np\n",
        "import matplotlib.pyplot as plt\n",
        "\n",
        "# Parameters for the binomial distribution\n",
        "n = 10  # Number of trials\n",
        "p = 0.4  # Probability of success\n",
        "sample_size = 1000  # Sample size\n",
        "\n",
        "# Generate random sample from binomial distribution\n",
        "sample = np.random.binomial(n, p, sample_size)\n",
        "\n",
        "# Plotting the histogram\n",
        "plt.hist(sample, bins=np.arange(sample.min(), sample.max() + 1), edgecolor='black', alpha=0.7)\n",
        "plt.title('Histogram of Binomial Distribution (n=10, p=0.4)')\n",
        "plt.xlabel('Number of Successes')\n",
        "plt.ylabel('Frequency')\n",
        "plt.grid(True)\n",
        "plt.show()\n"
      ],
      "metadata": {
        "colab": {
          "base_uri": "https://localhost:8080/",
          "height": 472
        },
        "id": "0EIWzjfb5B0U",
        "outputId": "63188fa8-c244-4b7e-dd8b-a93a1822825c"
      },
      "execution_count": 6,
      "outputs": [
        {
          "output_type": "display_data",
          "data": {
            "text/plain": [
              "<Figure size 640x480 with 1 Axes>"
            ],
            "image/png": "[encoded data removed]"
          },
          "metadata": {}
        }
      ]
    },
    {
      "cell_type": "code",
      "source": [
        "#Answer:6\n",
        "import math\n",
        "\n",
        "def poisson_cdf(lam, k):\n",
        "    \"\"\"\n",
        "    Calculate the cumulative distribution function (CDF) of a Poisson distribution.\n",
        "\n",
        "    Parameters:\n",
        "    lam (float): The mean (λ) of the Poisson distribution.\n",
        "    k (int): The point at which the CDF is calculated.\n",
        "\n",
        "    Returns:\n",
        "    float: The cumulative probability P(X <= k).\n",
        "    \"\"\"\n",
        "    # CDF is the sum of Poisson probabilities up to k\n",
        "    cdf = sum((math.exp(-lam) * lam**i) / math.factorial(i) for i in range(k + 1))\n",
        "    return cdf\n",
        "\n",
        "# Example usage\n",
        "if __name__ == \"__main__\":\n",
        "    # Input for the mean and point\n",
        "    lam = float(input(\"Enter the mean (λ) of the Poisson distribution: \"))\n",
        "    k = int(input(\"Enter the point (k) to calculate the CDF: \"))\n",
        "\n",
        "    # Calculate CDF\n",
        "    poisson_cdf_value = poisson_cdf(lam, k)\n",
        "\n",
        "    # Output the result\n",
        "    print(f\"The cumulative distribution function (CDF) at k={k} is: {poisson_cdf_value:.4f}\")\n"
      ],
      "metadata": {
        "colab": {
          "base_uri": "https://localhost:8080/"
        },
        "id": "i6_UkgGU5WPE",
        "outputId": "b52a1ae1-d1b2-452a-ebf1-f16e7f11b686"
      },
      "execution_count": 7,
      "outputs": [
        {
          "output_type": "stream",
          "name": "stdout",
          "text": [
            "Enter the mean (λ) of the Poisson distribution: 15\n",
            "Enter the point (k) to calculate the CDF: 26\n",
            "The cumulative distribution function (CDF) at k=26 is: 0.9967\n"
          ]
        }
      ]
    },
    {
      "cell_type": "code",
      "source": [
        "#Answer:7\n",
        "\"\"\"The Binomial and Poisson distributions are both types of probability distributions, but they differ significantly in their characteristics and applications.\n",
        "The Binomial distribution models scenarios with a fixed number of trials, each with two possible outcomes: success or failure. It requires two parameters: the number of trials and the probability of success for each trial.\n",
        " In contrast, the Poisson distribution is used to count the number of events occurring in a fixed interval, making it suitable for modeling rare events.\n",
        " It is defined by a single parameter, which represents the average rate of occurrence, and does not require a fixed number of trials.\n",
        "  While the Binomial distribution applies to situations with a specified number of trials, such as flipping a coin multiple times, the Poisson distribution is used for counting occurrences over time or space, such as the number of phone calls received in an hour.\"\"\""
      ],
      "metadata": {
        "colab": {
          "base_uri": "https://localhost:8080/",
          "height": 105
        },
        "id": "lnYdWRn-5wLA",
        "outputId": "60311ce7-0ed9-4424-cad3-7c63e5dff8f3"
      },
      "execution_count": 10,
      "outputs": [
        {
          "output_type": "execute_result",
          "data": {
            "text/plain": [
              "'The Binomial and Poisson distributions are both probability distributions, but they differ significantly in their characteristics and applications. The Binomial distribution models scenarios with a fixed number of trials (n), each with two possible outcomes: success or failure. It has two parameters: \\n𝑛\\nn (the number of trials) and \\n𝑝\\np (the probability of success for each trial). In contrast, the Poisson distribution counts the number of events occurring in a fixed interval, making it suitable for modeling rare events. It is defined by a single parameter, \\n𝜆\\nλ (the mean rate of occurrence), and does not require a fixed number of trials. While the Binomial distribution applies to situations with a specified number of trials, such as flipping a coin multiple times, the Poisson distribution is used for counting occurrences over time or space, such as the number of phone calls received in an hour.'"
            ],
            "application/vnd.google.colaboratory.intrinsic+json": {
              "type": "string"
            }
          },
          "metadata": {},
          "execution_count": 10
        }
      ]
    },
    {
      "cell_type": "code",
      "source": [
        "#Answer:-8\n",
        "\n",
        "import numpy as np\n",
        "\n",
        "def generate_poisson_sample(mean_lambda, sample_size):\n",
        "    \"\"\"\n",
        "    Generate a random sample from a Poisson distribution and calculate its mean and variance.\n",
        "\n",
        "    Parameters:\n",
        "    mean_lambda (float): The mean of the Poisson distribution.\n",
        "    sample_size (int): The size of the random sample.\n",
        "\n",
        "    Returns:\n",
        "    tuple: Sample mean and sample variance.\n",
        "    \"\"\"\n",
        "    # Generate random sample from Poisson distribution\n",
        "    poisson_sample = np.random.poisson(mean_lambda, sample_size)\n",
        "\n",
        "    # Calculate sample mean and variance\n",
        "    sample_mean = np.mean(poisson_sample)\n",
        "    sample_variance = np.var(poisson_sample)\n",
        "\n",
        "    return sample_mean, sample_variance\n",
        "\n",
        "if __name__ == \"__main__\":\n",
        "    mean_lambda = 5  # Mean of the Poisson distribution\n",
        "    sample_size = 1000  # Size of the random sample\n",
        "\n",
        "    mean, variance = generate_poisson_sample(mean_lambda, sample_size)\n",
        "\n",
        "    print(f\"Sample Mean: {mean:.3f}\")\n",
        "    print(f\"Sample Variance: {variance:.3f}\")\n"
      ],
      "metadata": {
        "colab": {
          "base_uri": "https://localhost:8080/"
        },
        "id": "IMZaEGcw6AIi",
        "outputId": "9b155a81-8f77-4a97-b3fc-fb8b1589fb28"
      },
      "execution_count": 12,
      "outputs": [
        {
          "output_type": "stream",
          "name": "stdout",
          "text": [
            "Sample Mean: 4.882\n",
            "Sample Variance: 4.976\n"
          ]
        }
      ]
    },
    {
      "cell_type": "code",
      "source": [
        "#Answer:-9\n",
        "\"\"\"\n",
        "In the Binomial distribution, the mean is determined by multiplying the number of trials by the probability of success.\n",
        "The variance, on the other hand, reflects the variability of outcomes and is calculated using the number of trials, the probability of success, and the probability of failure.\n",
        " This means that the variance depends on both the likelihood of success and failure in the trials.\n",
        "In contrast, the Poisson distribution has a simpler relationship between mean and variance. The mean is defined by a single parameter that represents the average rate of occurrence of events in a fixed interval. Interestingly, in the Poisson distribution, the variance is equal to the mean.\n",
        " This unique characteristic indicates that the spread of the distribution directly corresponds to the average number of events occurring, showing that as the average rate increases, the variability also increases proportionally. Overall, while both distributions connect mean and variance, they do so in different ways based on their underlying definitions and applications.\"\"\""
      ],
      "metadata": {
        "colab": {
          "base_uri": "https://localhost:8080/",
          "height": 123
        },
        "id": "BIyXRczI7gEk",
        "outputId": "53cdda87-7800-4be8-f612-2c1cf1326e5e"
      },
      "execution_count": 13,
      "outputs": [
        {
          "output_type": "execute_result",
          "data": {
            "text/plain": [
              "'\\nIn the Binomial distribution, the mean is determined by multiplying the number of trials by the probability of success. \\nThe variance, on the other hand, reflects the variability of outcomes and is calculated using the number of trials, the probability of success, and the probability of failure.\\n This means that the variance depends on both the likelihood of success and failure in the trials.\\nIn contrast, the Poisson distribution has a simpler relationship between mean and variance. The mean is defined by a single parameter that represents the average rate of occurrence of events in a fixed interval. Interestingly, in the Poisson distribution, the variance is equal to the mean.\\n This unique characteristic indicates that the spread of the distribution directly corresponds to the average number of events occurring, showing that as the average rate increases, the variability also increases proportionally. Overall, while both distributions connect mean and variance, they do so in different ways based on their underlying definitions and applications.'"
            ],
            "application/vnd.google.colaboratory.intrinsic+json": {
              "type": "string"
            }
          },
          "metadata": {},
          "execution_count": 13
        }
      ]
    },
    {
      "cell_type": "code",
      "source": [
        "#answer:-10\n",
        "\"\"\"In a normal distribution, the least frequent data appears at the tails, which are the extreme ends of the distribution.\n",
        " Most of the data is concentrated around the mean, with frequencies decreasing as you move away from the center toward the tails.\n",
        " This means that values far from the mean occur less frequently, leading to the least frequent data being located at both the lower and upper extremes of the distribution.\"\"\""
      ],
      "metadata": {
        "colab": {
          "base_uri": "https://localhost:8080/",
          "height": 70
        },
        "id": "cgXJ5O4E8Gaz",
        "outputId": "bb483713-3e27-4613-a4d5-7fbf17a0e3aa"
      },
      "execution_count": 14,
      "outputs": [
        {
          "output_type": "execute_result",
          "data": {
            "text/plain": [
              "'In a normal distribution, the least frequent data appears at the tails, which are the extreme ends of the distribution.\\n Most of the data is concentrated around the mean, with frequencies decreasing as you move away from the center toward the tails.\\n This means that values far from the mean occur less frequently, leading to the least frequent data being located at both the lower and upper extremes of the distribution.'"
            ],
            "application/vnd.google.colaboratory.intrinsic+json": {
              "type": "string"
            }
          },
          "metadata": {},
          "execution_count": 14
        }
      ]
    },
    {
      "cell_type": "code",
      "source": [],
      "metadata": {
        "id": "YCH69y_N8Vzi"
      },
      "execution_count": null,
      "outputs": []
    }
  ]
}